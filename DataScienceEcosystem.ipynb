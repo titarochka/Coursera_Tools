{
 "cells": [
  {
   "cell_type": "markdown",
   "id": "c62d806d",
   "metadata": {},
   "source": [
    "# Data Science Tools and Ecosystem"
   ]
  },
  {
   "cell_type": "markdown",
   "id": "25e7eb50",
   "metadata": {},
   "source": [
    "## In this notebook, Data Science Tools and Ecosystem are summarized."
   ]
  },
  {
   "cell_type": "markdown",
   "id": "bba7519b",
   "metadata": {},
   "source": [
    "# Some of the popular languages that Data Scientists use are:\n",
    "1. Pyton\n",
    "2. C++\n",
    "3. Delphy\n",
    "4. Java"
   ]
  },
  {
   "cell_type": "markdown",
   "id": "2afa3b8f",
   "metadata": {},
   "source": [
    "# Some of the popular languages that Data Scientists use are:\n",
    "1. Python\n",
    "2. Java\n",
    "3. C++\n",
    "4. C   "
   ]
  },
  {
   "cell_type": "markdown",
   "id": "3d735340",
   "metadata": {},
   "source": [
    "# Some of the commonly used libraries used by Data Scientists include:\n",
    "1. Pandas\n",
    "2. PyTorch\n",
    "3. Keras"
   ]
  },
  {
   "cell_type": "markdown",
   "id": "e6744f1c",
   "metadata": {},
   "source": [
    "# Some of the commonly used libraries used by Data Scientists include:\n",
    "1. Pandas\n",
    "2. PyTorch\n",
    "3. Keras"
   ]
  },
  {
   "cell_type": "markdown",
   "id": "e00bcad7",
   "metadata": {},
   "source": [
    "|Data Science Tools|\n",
    "| ------ |\n",
    "| RStudio |\n",
    "|Apache Spark |\n",
    "| RapidMiner | \n"
   ]
  },
  {
   "cell_type": "markdown",
   "id": "3bea8b46",
   "metadata": {},
   "source": [
    "|Data Science Tools|\n",
    "| ------ |\n",
    "| RStudio |\n",
    "|Apache Spark |\n",
    "| RapidMiner | \n"
   ]
  },
  {
   "cell_type": "markdown",
   "id": "67dffb10",
   "metadata": {},
   "source": [
    "### Below are a few examples of evaluating arithmetic expressions in Python"
   ]
  },
  {
   "cell_type": "code",
   "execution_count": 6,
   "id": "ea04203d",
   "metadata": {},
   "outputs": [],
   "source": [
    "### Below are a few examples of evaluating arithmetic expressions in Python"
   ]
  },
  {
   "cell_type": "markdown",
   "id": "c6c3d69a",
   "metadata": {},
   "source": [
    "\"This a simple arithmetic expression to mutiply then add integers\""
   ]
  },
  {
   "cell_type": "code",
   "execution_count": 9,
   "id": "239601ef",
   "metadata": {},
   "outputs": [
    {
     "data": {
      "text/plain": [
       "17"
      ]
     },
     "execution_count": 9,
     "metadata": {},
     "output_type": "execute_result"
    }
   ],
   "source": [
    "(3*4)+5"
   ]
  },
  {
   "cell_type": "code",
   "execution_count": null,
   "id": "ebb48eeb",
   "metadata": {},
   "outputs": [],
   "source": [
    "\"This will convert 200 minutes to hours by diving by 60\""
   ]
  },
  {
   "cell_type": "markdown",
   "id": "3c9473dc",
   "metadata": {},
   "source": [
    "\"This will convert 200 minutes to hours by diving by 60\""
   ]
  },
  {
   "cell_type": "code",
   "execution_count": 3,
   "id": "8ec14095",
   "metadata": {},
   "outputs": [
    {
     "data": {
      "text/plain": [
       "3"
      ]
     },
     "execution_count": 3,
     "metadata": {},
     "output_type": "execute_result"
    }
   ],
   "source": [
    "200//60"
   ]
  },
  {
   "cell_type": "markdown",
   "id": "ac1c971f",
   "metadata": {},
   "source": [
    "**Objectives:**"
   ]
  },
  {
   "cell_type": "markdown",
   "id": "275a71f7",
   "metadata": {},
   "source": [
    "**Objectives:**"
   ]
  },
  {
   "cell_type": "markdown",
   "id": "c2c15310",
   "metadata": {},
   "source": [
    "+ The List of popular languages for Data Science\n",
    "+ The commonly used libraries used by Data Scientists\n",
    "+ Data Science Tools\n",
    "+ Arithmetic expression\n",
    "\n"
   ]
  },
  {
   "cell_type": "markdown",
   "id": "4c5f686d",
   "metadata": {},
   "source": [
    "+ The List of popular languages for Data Science\n",
    "+ The commonly used libraries used by Data Scientists\n",
    "+ Data Science Tools\n",
    "+ Arithmetic expression\n"
   ]
  },
  {
   "cell_type": "markdown",
   "id": "017ba2e5",
   "metadata": {},
   "source": [
    "## Author"
   ]
  },
  {
   "cell_type": "markdown",
   "id": "58587da6",
   "metadata": {},
   "source": [
    "## Author"
   ]
  },
  {
   "cell_type": "markdown",
   "id": "7d0d1e2e",
   "metadata": {},
   "source": [
    "Ekaterina Khatuntseva"
   ]
  },
  {
   "cell_type": "markdown",
   "id": "8bb1ca28",
   "metadata": {},
   "source": [
    "Ekaterina Khatuntseva"
   ]
  },
  {
   "cell_type": "code",
   "execution_count": null,
   "id": "a06830db",
   "metadata": {},
   "outputs": [],
   "source": []
  }
 ],
 "metadata": {
  "kernelspec": {
   "display_name": "Python 3 (ipykernel)",
   "language": "python",
   "name": "python3"
  },
  "language_info": {
   "codemirror_mode": {
    "name": "ipython",
    "version": 3
   },
   "file_extension": ".py",
   "mimetype": "text/x-python",
   "name": "python",
   "nbconvert_exporter": "python",
   "pygments_lexer": "ipython3",
   "version": "3.10.9"
  }
 },
 "nbformat": 4,
 "nbformat_minor": 5
}
